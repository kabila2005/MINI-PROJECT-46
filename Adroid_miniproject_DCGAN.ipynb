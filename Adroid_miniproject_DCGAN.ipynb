{
  "metadata": {
    "kernelspec": {
      "language": "python",
      "display_name": "Python 3",
      "name": "python3"
    },
    "language_info": {
      "pygments_lexer": "ipython3",
      "nbconvert_exporter": "python",
      "version": "3.6.4",
      "file_extension": ".py",
      "codemirror_mode": {
        "name": "ipython",
        "version": 3
      },
      "name": "python",
      "mimetype": "text/x-python"
    },
    "kaggle": {
      "accelerator": "gpu",
      "dataSources": [
        {
          "sourceId": 3004,
          "databundleVersionId": 861823,
          "sourceType": "competition"
        },
        {
          "sourceId": 9243,
          "sourceType": "datasetVersion",
          "datasetId": 2243
        }
      ],
      "dockerImageVersionId": 25114,
      "isInternetEnabled": false,
      "language": "python",
      "sourceType": "notebook",
      "isGpuEnabled": true
    },
    "colab": {
      "provenance": []
    }
  },
  "nbformat_minor": 0,
  "nbformat": 4,
  "cells": [
    {
      "cell_type": "code",
      "source": [
        "from glob import glob\n",
        "from PIL import Image\n",
        "from IPython import display\n",
        "import tensorflow.keras as kr\n",
        "import tensorflow as tf\n",
        "import matplotlib.pyplot as plt\n",
        "import numpy as np\n",
        "import imageio\n",
        "import os"
      ],
      "metadata": {
        "id": "YfIk2es3hJEd",
        "execution": {
          "iopub.status.busy": "2023-07-05T02:45:41.130758Z",
          "iopub.execute_input": "2023-07-05T02:45:41.131018Z",
          "iopub.status.idle": "2023-07-05T02:45:42.124962Z",
          "shell.execute_reply.started": "2023-07-05T02:45:41.130966Z",
          "shell.execute_reply": "2023-07-05T02:45:42.124086Z"
        },
        "trusted": true
      },
      "execution_count": 1,
      "outputs": []
    },
    {
      "cell_type": "code",
      "source": [
        "BATCH_SIZE = 128\n",
        "LATENT_DIM = 100\n",
        "SAMPLE_INTERVAL = 200\n",
        "EPOCHS = 10000"
      ],
      "metadata": {
        "id": "xSzYytsVd9Hf",
        "execution": {
          "iopub.status.busy": "2023-07-05T02:45:42.127448Z",
          "iopub.execute_input": "2023-07-05T02:45:42.128021Z",
          "iopub.status.idle": "2023-07-05T02:45:42.132319Z",
          "shell.execute_reply.started": "2023-07-05T02:45:42.12796Z",
          "shell.execute_reply": "2023-07-05T02:45:42.131521Z"
        },
        "trusted": true
      },
      "execution_count": 2,
      "outputs": []
    },
    {
      "cell_type": "code",
      "source": [
        "def generate_gif(gif_name='mnist_gan.gif', pattern='image*.png'):\n",
        "    with imageio.get_writer(gif_name, mode='I') as writer:\n",
        "        filenames = glob(pattern)\n",
        "        filenames = sorted(filenames)\n",
        "        last = -1\n",
        "        for i,filename in enumerate(filenames):\n",
        "            frame = 2*(i**0.5)\n",
        "            if round(frame) > round(last):\n",
        "                last = frame\n",
        "            else:\n",
        "                continue\n",
        "            image = imageio.imread(filename)\n",
        "            writer.append_data(image)\n",
        "\n",
        "        image = imageio.imread(filename)\n",
        "        writer.append_data(image)\n",
        "\n",
        "    # this is a hack to display the gif inside the notebook\n",
        "    os.system('cp {} {}.png'.format(gif_name, gif_name))"
      ],
      "metadata": {
        "id": "QqMtD4jpd9Hu",
        "execution": {
          "iopub.status.busy": "2023-07-05T02:45:42.133813Z",
          "iopub.execute_input": "2023-07-05T02:45:42.134368Z",
          "iopub.status.idle": "2023-07-05T02:45:42.142364Z",
          "shell.execute_reply.started": "2023-07-05T02:45:42.134316Z",
          "shell.execute_reply": "2023-07-05T02:45:42.141455Z"
        },
        "trusted": true
      },
      "execution_count": 3,
      "outputs": []
    },
    {
      "cell_type": "code",
      "source": [
        "def sample_images(generator, epoch, save=True, name='mnist'):\n",
        "    \"\"\" Sample images from generator, plot them and save as png\"\"\"\n",
        "\n",
        "    noise = np.random.normal(size=(5 * 5, LATENT_DIM))\n",
        "    gen_imgs = generator.predict(noise)\n",
        "    gen_imgs = 0.5 * gen_imgs + 0.5     # Rescale images 0-1\n",
        "\n",
        "    fig, axs = plt.subplots(5, 5)\n",
        "    c = 0\n",
        "    for i in range(5):\n",
        "        for j in range(5):\n",
        "            axs[i,j].imshow(gen_imgs[c, :,:,0], cmap='gray')\n",
        "            axs[i,j].axis('off')\n",
        "            c += 1\n",
        "\n",
        "    if save:\n",
        "        fig.savefig(\"{}_{}.png\".format(name, epoch))\n",
        "        plt.close()\n",
        "    else:\n",
        "        plt.show()"
      ],
      "metadata": {
        "id": "vjZv8b1Ud9H4",
        "execution": {
          "iopub.status.busy": "2023-07-05T02:45:42.143783Z",
          "iopub.execute_input": "2023-07-05T02:45:42.144348Z",
          "iopub.status.idle": "2023-07-05T02:45:42.152716Z",
          "shell.execute_reply.started": "2023-07-05T02:45:42.144026Z",
          "shell.execute_reply": "2023-07-05T02:45:42.151639Z"
        },
        "trusted": true
      },
      "execution_count": 4,
      "outputs": []
    },
    {
      "cell_type": "code",
      "source": [
        "(X, _), (_, _) = kr.datasets.mnist.load_data()\n",
        "\n",
        "X = X.reshape(X.shape[0], 28, 28, 1).astype('float32')\n",
        "X = (X - 127.5) / 127.5 # Normalize the images to [-1, 1]"
      ],
      "metadata": {
        "id": "NFC2ghIdiZYE",
        "execution": {
          "iopub.status.busy": "2023-07-05T02:45:42.1542Z",
          "iopub.execute_input": "2023-07-05T02:45:42.154849Z",
          "iopub.status.idle": "2023-07-05T02:45:44.495799Z",
          "shell.execute_reply.started": "2023-07-05T02:45:42.154489Z",
          "shell.execute_reply": "2023-07-05T02:45:44.494895Z"
        },
        "trusted": true,
        "colab": {
          "base_uri": "https://localhost:8080/"
        },
        "outputId": "64ed7376-72f1-48df-aedc-1a6a35c73cf4"
      },
      "execution_count": 5,
      "outputs": [
        {
          "output_type": "stream",
          "name": "stdout",
          "text": [
            "Downloading data from https://storage.googleapis.com/tensorflow/tf-keras-datasets/mnist.npz\n",
            "11490434/11490434 [==============================] - 0s 0us/step\n"
          ]
        }
      ]
    },
    {
      "cell_type": "code",
      "source": [
        "def build_generator(output_shape=(28, 28, 1)):\n",
        "    model = kr.Sequential(name='generator')\n",
        "\n",
        "    model.add(kr.layers.Dense(256, input_shape=(LATENT_DIM, )))\n",
        "    model.add(kr.layers.LeakyReLU(alpha=0.2))\n",
        "    model.add(kr.layers.BatchNormalization(momentum=0.8))\n",
        "\n",
        "    model.add(kr.layers.Dense(512))\n",
        "    model.add(kr.layers.LeakyReLU(alpha=0.2))\n",
        "    model.add(kr.layers.BatchNormalization(momentum=0.8))\n",
        "\n",
        "    model.add(kr.layers.Dense(1024))\n",
        "    model.add(kr.layers.LeakyReLU(alpha=0.2))\n",
        "    model.add(kr.layers.BatchNormalization(momentum=0.8))\n",
        "\n",
        "    model.add(kr.layers.Dense(np.prod(output_shape), activation='tanh'))\n",
        "    model.add(kr.layers.Reshape(output_shape))\n",
        "\n",
        "    return model\n",
        "\n",
        "\n",
        "generator = build_generator()\n",
        "generator.summary()"
      ],
      "metadata": {
        "id": "IUdGOqIAd9IR",
        "outputId": "17720472-acf2-41cb-bd60-feb2e18e1f87",
        "execution": {
          "iopub.status.busy": "2023-07-05T02:45:44.497067Z",
          "iopub.execute_input": "2023-07-05T02:45:44.497362Z",
          "iopub.status.idle": "2023-07-05T02:45:44.828359Z",
          "shell.execute_reply.started": "2023-07-05T02:45:44.497312Z",
          "shell.execute_reply": "2023-07-05T02:45:44.827566Z"
        },
        "trusted": true,
        "colab": {
          "base_uri": "https://localhost:8080/"
        }
      },
      "execution_count": 6,
      "outputs": [
        {
          "output_type": "stream",
          "name": "stdout",
          "text": [
            "Model: \"generator\"\n",
            "_________________________________________________________________\n",
            " Layer (type)                Output Shape              Param #   \n",
            "=================================================================\n",
            " dense (Dense)               (None, 256)               25856     \n",
            "                                                                 \n",
            " leaky_re_lu (LeakyReLU)     (None, 256)               0         \n",
            "                                                                 \n",
            " batch_normalization (Batch  (None, 256)               1024      \n",
            " Normalization)                                                  \n",
            "                                                                 \n",
            " dense_1 (Dense)             (None, 512)               131584    \n",
            "                                                                 \n",
            " leaky_re_lu_1 (LeakyReLU)   (None, 512)               0         \n",
            "                                                                 \n",
            " batch_normalization_1 (Bat  (None, 512)               2048      \n",
            " chNormalization)                                                \n",
            "                                                                 \n",
            " dense_2 (Dense)             (None, 1024)              525312    \n",
            "                                                                 \n",
            " leaky_re_lu_2 (LeakyReLU)   (None, 1024)              0         \n",
            "                                                                 \n",
            " batch_normalization_2 (Bat  (None, 1024)              4096      \n",
            " chNormalization)                                                \n",
            "                                                                 \n",
            " dense_3 (Dense)             (None, 784)               803600    \n",
            "                                                                 \n",
            " reshape (Reshape)           (None, 28, 28, 1)         0         \n",
            "                                                                 \n",
            "=================================================================\n",
            "Total params: 1493520 (5.70 MB)\n",
            "Trainable params: 1489936 (5.68 MB)\n",
            "Non-trainable params: 3584 (14.00 KB)\n",
            "_________________________________________________________________\n"
          ]
        }
      ]
    },
    {
      "cell_type": "code",
      "source": [
        "def build_discriminator(input_shape=(28, 28, 1)):\n",
        "    model = kr.Sequential(name='discriminator')\n",
        "\n",
        "    model.add(kr.layers.Flatten(input_shape=input_shape))\n",
        "    model.add(kr.layers.Dense(512))\n",
        "    model.add(kr.layers.LeakyReLU(alpha=0.2))\n",
        "\n",
        "    model.add(kr.layers.Dense(256))\n",
        "    model.add(kr.layers.LeakyReLU(alpha=0.2))\n",
        "\n",
        "    model.add(kr.layers.Dense(1, activation='sigmoid'))\n",
        "\n",
        "    return model\n",
        "\n",
        "\n",
        "discriminator = build_discriminator()\n",
        "discriminator.summary()"
      ],
      "metadata": {
        "id": "DfIJVffJd9Ie",
        "outputId": "9dcd0b43-860b-48da-a8d7-51fdee07268a",
        "execution": {
          "iopub.status.busy": "2023-07-05T02:45:44.829624Z",
          "iopub.execute_input": "2023-07-05T02:45:44.829916Z",
          "iopub.status.idle": "2023-07-05T02:45:44.905918Z",
          "shell.execute_reply.started": "2023-07-05T02:45:44.829867Z",
          "shell.execute_reply": "2023-07-05T02:45:44.905273Z"
        },
        "trusted": true,
        "colab": {
          "base_uri": "https://localhost:8080/"
        }
      },
      "execution_count": 7,
      "outputs": [
        {
          "output_type": "stream",
          "name": "stdout",
          "text": [
            "Model: \"discriminator\"\n",
            "_________________________________________________________________\n",
            " Layer (type)                Output Shape              Param #   \n",
            "=================================================================\n",
            " flatten (Flatten)           (None, 784)               0         \n",
            "                                                                 \n",
            " dense_4 (Dense)             (None, 512)               401920    \n",
            "                                                                 \n",
            " leaky_re_lu_3 (LeakyReLU)   (None, 512)               0         \n",
            "                                                                 \n",
            " dense_5 (Dense)             (None, 256)               131328    \n",
            "                                                                 \n",
            " leaky_re_lu_4 (LeakyReLU)   (None, 256)               0         \n",
            "                                                                 \n",
            " dense_6 (Dense)             (None, 1)                 257       \n",
            "                                                                 \n",
            "=================================================================\n",
            "Total params: 533505 (2.04 MB)\n",
            "Trainable params: 533505 (2.04 MB)\n",
            "Non-trainable params: 0 (0.00 Byte)\n",
            "_________________________________________________________________\n"
          ]
        }
      ]
    },
    {
      "cell_type": "code",
      "source": [
        "optimizer = kr.optimizers.Adam(0.0002, 0.5)\n",
        "\n",
        "discriminator.compile(loss='binary_crossentropy', optimizer=optimizer,  metrics=['acc'])\n",
        "discriminator.trainable = False    # For GAN we will only train the generator\n",
        "\n",
        "z = kr.Input(shape=(LATENT_DIM,))\n",
        "valid = discriminator(generator(z))\n",
        "\n",
        "model = kr.Model(z, valid)\n",
        "model.compile(loss='binary_crossentropy', optimizer=optimizer)\n",
        "model.summary()"
      ],
      "metadata": {
        "id": "KJLdRQNHd9Im",
        "outputId": "09dc0d3f-5d2e-418d-8d33-69a6f8ad7960",
        "execution": {
          "iopub.status.busy": "2023-07-05T02:45:44.907135Z",
          "iopub.execute_input": "2023-07-05T02:45:44.907433Z",
          "iopub.status.idle": "2023-07-05T02:45:45.287801Z",
          "shell.execute_reply.started": "2023-07-05T02:45:44.907369Z",
          "shell.execute_reply": "2023-07-05T02:45:45.28706Z"
        },
        "trusted": true,
        "colab": {
          "base_uri": "https://localhost:8080/"
        }
      },
      "execution_count": 8,
      "outputs": [
        {
          "output_type": "stream",
          "name": "stdout",
          "text": [
            "Model: \"model\"\n",
            "_________________________________________________________________\n",
            " Layer (type)                Output Shape              Param #   \n",
            "=================================================================\n",
            " input_1 (InputLayer)        [(None, 100)]             0         \n",
            "                                                                 \n",
            " generator (Sequential)      (None, 28, 28, 1)         1493520   \n",
            "                                                                 \n",
            " discriminator (Sequential)  (None, 1)                 533505    \n",
            "                                                                 \n",
            "=================================================================\n",
            "Total params: 2027025 (7.73 MB)\n",
            "Trainable params: 1489936 (5.68 MB)\n",
            "Non-trainable params: 537089 (2.05 MB)\n",
            "_________________________________________________________________\n"
          ]
        }
      ]
    },
    {
      "cell_type": "code",
      "source": [
        "# Adversarial ground truths\n",
        "valid_labels = np.ones((BATCH_SIZE, 1))\n",
        "fake_labels = np.zeros((BATCH_SIZE, 1))\n",
        "\n",
        "for epoch in range(EPOCHS):\n",
        "    noise = np.random.normal(size=(BATCH_SIZE, LATENT_DIM))\n",
        "\n",
        "    # Shuffle and batch data\n",
        "    imgs = X[np.random.randint(0, X.shape[0], BATCH_SIZE)]\n",
        "\n",
        "    loss_real = discriminator.train_on_batch(imgs, valid_labels)\n",
        "    loss_fake = discriminator.train_on_batch(generator.predict(noise), fake_labels)\n",
        "    d_loss, d_acc = 0.5 * np.add(loss_real, loss_fake)\n",
        "\n",
        "    noise = np.random.normal(size=(BATCH_SIZE, LATENT_DIM))\n",
        "    g_loss = model.train_on_batch(noise, valid_labels)\n",
        "    display.clear_output(wait=True)\n",
        "    print (\"Epoch : %d [D loss: %f, acc.: %.2f%%] [G loss: %f]\" % (epoch, d_loss, 100*d_acc, g_loss))\n",
        "\n",
        "    # If at save interval => save generated image samples\n",
        "    if epoch % SAMPLE_INTERVAL == 0:\n",
        "        sample_images(generator, epoch, name='../working/mnist')"
      ],
      "metadata": {
        "id": "Z0wn69SWd9I2",
        "outputId": "90987299-f86c-48b0-cee2-2261c8821e36",
        "execution": {
          "iopub.status.busy": "2023-07-05T02:45:45.290512Z",
          "iopub.execute_input": "2023-07-05T02:45:45.290802Z",
          "iopub.status.idle": "2023-07-05T02:50:33.389363Z",
          "shell.execute_reply.started": "2023-07-05T02:45:45.290753Z",
          "shell.execute_reply": "2023-07-05T02:50:33.388452Z"
        },
        "trusted": true,
        "colab": {
          "base_uri": "https://localhost:8080/",
          "height": 863
        }
      },
      "execution_count": 10,
      "outputs": [
        {
          "output_type": "stream",
          "name": "stdout",
          "text": [
            "4/4 [==============================] - 0s 6ms/step\n"
          ]
        },
        {
          "output_type": "error",
          "ename": "KeyError",
          "evalue": "in user code:\n\n    File \"/usr/local/lib/python3.10/dist-packages/keras/src/engine/training.py\", line 1401, in train_function  *\n        return step_function(self, iterator)\n    File \"/usr/local/lib/python3.10/dist-packages/keras/src/engine/training.py\", line 1384, in step_function  **\n        outputs = model.distribute_strategy.run(run_step, args=(data,))\n    File \"/usr/local/lib/python3.10/dist-packages/keras/src/engine/training.py\", line 1373, in run_step  **\n        outputs = model.train_step(data)\n    File \"/usr/local/lib/python3.10/dist-packages/keras/src/engine/training.py\", line 1154, in train_step\n        self.optimizer.minimize(loss, self.trainable_variables, tape=tape)\n    File \"/usr/local/lib/python3.10/dist-packages/keras/src/optimizers/optimizer.py\", line 544, in minimize\n        self.apply_gradients(grads_and_vars)\n    File \"/usr/local/lib/python3.10/dist-packages/keras/src/optimizers/optimizer.py\", line 1223, in apply_gradients\n        return super().apply_gradients(grads_and_vars, name=name)\n    File \"/usr/local/lib/python3.10/dist-packages/keras/src/optimizers/optimizer.py\", line 652, in apply_gradients\n        iteration = self._internal_apply_gradients(grads_and_vars)\n    File \"/usr/local/lib/python3.10/dist-packages/keras/src/optimizers/optimizer.py\", line 1253, in _internal_apply_gradients\n        return tf.__internal__.distribute.interim.maybe_merge_call(\n    File \"/usr/local/lib/python3.10/dist-packages/keras/src/optimizers/optimizer.py\", line 1345, in _distributed_apply_gradients_fn\n        distribution.extended.update(\n    File \"/usr/local/lib/python3.10/dist-packages/keras/src/optimizers/optimizer.py\", line 1342, in apply_grad_to_update_var  **\n        return self._update_step(grad, var)\n    File \"/usr/local/lib/python3.10/dist-packages/keras/src/optimizers/optimizer.py\", line 233, in _update_step\n        raise KeyError(\n\n    KeyError: 'The optimizer cannot recognize variable dense/kernel:0. This usually means you are trying to call the optimizer to update different parts of the model separately. Please call `optimizer.build(variables)` with the full list of trainable variables before the training loop or use legacy optimizer `tf.keras.optimizers.legacy.Adam.'\n",
          "traceback": [
            "\u001b[0;31m---------------------------------------------------------------------------\u001b[0m",
            "\u001b[0;31mKeyError\u001b[0m                                  Traceback (most recent call last)",
            "\u001b[0;32m<ipython-input-10-60572fc9c36c>\u001b[0m in \u001b[0;36m<cell line: 5>\u001b[0;34m()\u001b[0m\n\u001b[1;32m     14\u001b[0m \u001b[0;34m\u001b[0m\u001b[0m\n\u001b[1;32m     15\u001b[0m     \u001b[0mnoise\u001b[0m \u001b[0;34m=\u001b[0m \u001b[0mnp\u001b[0m\u001b[0;34m.\u001b[0m\u001b[0mrandom\u001b[0m\u001b[0;34m.\u001b[0m\u001b[0mnormal\u001b[0m\u001b[0;34m(\u001b[0m\u001b[0msize\u001b[0m\u001b[0;34m=\u001b[0m\u001b[0;34m(\u001b[0m\u001b[0mBATCH_SIZE\u001b[0m\u001b[0;34m,\u001b[0m \u001b[0mLATENT_DIM\u001b[0m\u001b[0;34m)\u001b[0m\u001b[0;34m)\u001b[0m\u001b[0;34m\u001b[0m\u001b[0;34m\u001b[0m\u001b[0m\n\u001b[0;32m---> 16\u001b[0;31m     \u001b[0mg_loss\u001b[0m \u001b[0;34m=\u001b[0m \u001b[0mmodel\u001b[0m\u001b[0;34m.\u001b[0m\u001b[0mtrain_on_batch\u001b[0m\u001b[0;34m(\u001b[0m\u001b[0mnoise\u001b[0m\u001b[0;34m,\u001b[0m \u001b[0mvalid_labels\u001b[0m\u001b[0;34m)\u001b[0m\u001b[0;34m\u001b[0m\u001b[0;34m\u001b[0m\u001b[0m\n\u001b[0m\u001b[1;32m     17\u001b[0m     \u001b[0mdisplay\u001b[0m\u001b[0;34m.\u001b[0m\u001b[0mclear_output\u001b[0m\u001b[0;34m(\u001b[0m\u001b[0mwait\u001b[0m\u001b[0;34m=\u001b[0m\u001b[0;32mTrue\u001b[0m\u001b[0;34m)\u001b[0m\u001b[0;34m\u001b[0m\u001b[0;34m\u001b[0m\u001b[0m\n\u001b[1;32m     18\u001b[0m     \u001b[0mprint\u001b[0m \u001b[0;34m(\u001b[0m\u001b[0;34m\"Epoch : %d [D loss: %f, acc.: %.2f%%] [G loss: %f]\"\u001b[0m \u001b[0;34m%\u001b[0m \u001b[0;34m(\u001b[0m\u001b[0mepoch\u001b[0m\u001b[0;34m,\u001b[0m \u001b[0md_loss\u001b[0m\u001b[0;34m,\u001b[0m \u001b[0;36m100\u001b[0m\u001b[0;34m*\u001b[0m\u001b[0md_acc\u001b[0m\u001b[0;34m,\u001b[0m \u001b[0mg_loss\u001b[0m\u001b[0;34m)\u001b[0m\u001b[0;34m)\u001b[0m\u001b[0;34m\u001b[0m\u001b[0;34m\u001b[0m\u001b[0m\n",
            "\u001b[0;32m/usr/local/lib/python3.10/dist-packages/keras/src/engine/training.py\u001b[0m in \u001b[0;36mtrain_on_batch\u001b[0;34m(self, x, y, sample_weight, class_weight, reset_metrics, return_dict)\u001b[0m\n\u001b[1;32m   2785\u001b[0m             )\n\u001b[1;32m   2786\u001b[0m             \u001b[0mself\u001b[0m\u001b[0;34m.\u001b[0m\u001b[0mtrain_function\u001b[0m \u001b[0;34m=\u001b[0m \u001b[0mself\u001b[0m\u001b[0;34m.\u001b[0m\u001b[0mmake_train_function\u001b[0m\u001b[0;34m(\u001b[0m\u001b[0;34m)\u001b[0m\u001b[0;34m\u001b[0m\u001b[0;34m\u001b[0m\u001b[0m\n\u001b[0;32m-> 2787\u001b[0;31m             \u001b[0mlogs\u001b[0m \u001b[0;34m=\u001b[0m \u001b[0mself\u001b[0m\u001b[0;34m.\u001b[0m\u001b[0mtrain_function\u001b[0m\u001b[0;34m(\u001b[0m\u001b[0miterator\u001b[0m\u001b[0;34m)\u001b[0m\u001b[0;34m\u001b[0m\u001b[0;34m\u001b[0m\u001b[0m\n\u001b[0m\u001b[1;32m   2788\u001b[0m \u001b[0;34m\u001b[0m\u001b[0m\n\u001b[1;32m   2789\u001b[0m         \u001b[0mlogs\u001b[0m \u001b[0;34m=\u001b[0m \u001b[0mtf_utils\u001b[0m\u001b[0;34m.\u001b[0m\u001b[0msync_to_numpy_or_python_type\u001b[0m\u001b[0;34m(\u001b[0m\u001b[0mlogs\u001b[0m\u001b[0;34m)\u001b[0m\u001b[0;34m\u001b[0m\u001b[0;34m\u001b[0m\u001b[0m\n",
            "\u001b[0;32m/usr/local/lib/python3.10/dist-packages/tensorflow/python/util/traceback_utils.py\u001b[0m in \u001b[0;36merror_handler\u001b[0;34m(*args, **kwargs)\u001b[0m\n\u001b[1;32m    151\u001b[0m     \u001b[0;32mexcept\u001b[0m \u001b[0mException\u001b[0m \u001b[0;32mas\u001b[0m \u001b[0me\u001b[0m\u001b[0;34m:\u001b[0m\u001b[0;34m\u001b[0m\u001b[0;34m\u001b[0m\u001b[0m\n\u001b[1;32m    152\u001b[0m       \u001b[0mfiltered_tb\u001b[0m \u001b[0;34m=\u001b[0m \u001b[0m_process_traceback_frames\u001b[0m\u001b[0;34m(\u001b[0m\u001b[0me\u001b[0m\u001b[0;34m.\u001b[0m\u001b[0m__traceback__\u001b[0m\u001b[0;34m)\u001b[0m\u001b[0;34m\u001b[0m\u001b[0;34m\u001b[0m\u001b[0m\n\u001b[0;32m--> 153\u001b[0;31m       \u001b[0;32mraise\u001b[0m \u001b[0me\u001b[0m\u001b[0;34m.\u001b[0m\u001b[0mwith_traceback\u001b[0m\u001b[0;34m(\u001b[0m\u001b[0mfiltered_tb\u001b[0m\u001b[0;34m)\u001b[0m \u001b[0;32mfrom\u001b[0m \u001b[0;32mNone\u001b[0m\u001b[0;34m\u001b[0m\u001b[0;34m\u001b[0m\u001b[0m\n\u001b[0m\u001b[1;32m    154\u001b[0m     \u001b[0;32mfinally\u001b[0m\u001b[0;34m:\u001b[0m\u001b[0;34m\u001b[0m\u001b[0;34m\u001b[0m\u001b[0m\n\u001b[1;32m    155\u001b[0m       \u001b[0;32mdel\u001b[0m \u001b[0mfiltered_tb\u001b[0m\u001b[0;34m\u001b[0m\u001b[0;34m\u001b[0m\u001b[0m\n",
            "\u001b[0;32m/usr/local/lib/python3.10/dist-packages/keras/src/engine/training.py\u001b[0m in \u001b[0;36mtf__train_function\u001b[0;34m(iterator)\u001b[0m\n\u001b[1;32m     13\u001b[0m                 \u001b[0;32mtry\u001b[0m\u001b[0;34m:\u001b[0m\u001b[0;34m\u001b[0m\u001b[0;34m\u001b[0m\u001b[0m\n\u001b[1;32m     14\u001b[0m                     \u001b[0mdo_return\u001b[0m \u001b[0;34m=\u001b[0m \u001b[0;32mTrue\u001b[0m\u001b[0;34m\u001b[0m\u001b[0;34m\u001b[0m\u001b[0m\n\u001b[0;32m---> 15\u001b[0;31m                     \u001b[0mretval_\u001b[0m \u001b[0;34m=\u001b[0m \u001b[0mag__\u001b[0m\u001b[0;34m.\u001b[0m\u001b[0mconverted_call\u001b[0m\u001b[0;34m(\u001b[0m\u001b[0mag__\u001b[0m\u001b[0;34m.\u001b[0m\u001b[0mld\u001b[0m\u001b[0;34m(\u001b[0m\u001b[0mstep_function\u001b[0m\u001b[0;34m)\u001b[0m\u001b[0;34m,\u001b[0m \u001b[0;34m(\u001b[0m\u001b[0mag__\u001b[0m\u001b[0;34m.\u001b[0m\u001b[0mld\u001b[0m\u001b[0;34m(\u001b[0m\u001b[0mself\u001b[0m\u001b[0;34m)\u001b[0m\u001b[0;34m,\u001b[0m \u001b[0mag__\u001b[0m\u001b[0;34m.\u001b[0m\u001b[0mld\u001b[0m\u001b[0;34m(\u001b[0m\u001b[0miterator\u001b[0m\u001b[0;34m)\u001b[0m\u001b[0;34m)\u001b[0m\u001b[0;34m,\u001b[0m \u001b[0;32mNone\u001b[0m\u001b[0;34m,\u001b[0m \u001b[0mfscope\u001b[0m\u001b[0;34m)\u001b[0m\u001b[0;34m\u001b[0m\u001b[0;34m\u001b[0m\u001b[0m\n\u001b[0m\u001b[1;32m     16\u001b[0m                 \u001b[0;32mexcept\u001b[0m\u001b[0;34m:\u001b[0m\u001b[0;34m\u001b[0m\u001b[0;34m\u001b[0m\u001b[0m\n\u001b[1;32m     17\u001b[0m                     \u001b[0mdo_return\u001b[0m \u001b[0;34m=\u001b[0m \u001b[0;32mFalse\u001b[0m\u001b[0;34m\u001b[0m\u001b[0;34m\u001b[0m\u001b[0m\n",
            "\u001b[0;32m/usr/local/lib/python3.10/dist-packages/keras/src/engine/training.py\u001b[0m in \u001b[0;36mstep_function\u001b[0;34m(model, iterator)\u001b[0m\n\u001b[1;32m   1382\u001b[0m                 )\n\u001b[1;32m   1383\u001b[0m             \u001b[0mdata\u001b[0m \u001b[0;34m=\u001b[0m \u001b[0mnext\u001b[0m\u001b[0;34m(\u001b[0m\u001b[0miterator\u001b[0m\u001b[0;34m)\u001b[0m\u001b[0;34m\u001b[0m\u001b[0;34m\u001b[0m\u001b[0m\n\u001b[0;32m-> 1384\u001b[0;31m             \u001b[0moutputs\u001b[0m \u001b[0;34m=\u001b[0m \u001b[0mmodel\u001b[0m\u001b[0;34m.\u001b[0m\u001b[0mdistribute_strategy\u001b[0m\u001b[0;34m.\u001b[0m\u001b[0mrun\u001b[0m\u001b[0;34m(\u001b[0m\u001b[0mrun_step\u001b[0m\u001b[0;34m,\u001b[0m \u001b[0margs\u001b[0m\u001b[0;34m=\u001b[0m\u001b[0;34m(\u001b[0m\u001b[0mdata\u001b[0m\u001b[0;34m,\u001b[0m\u001b[0;34m)\u001b[0m\u001b[0;34m)\u001b[0m\u001b[0;34m\u001b[0m\u001b[0;34m\u001b[0m\u001b[0m\n\u001b[0m\u001b[1;32m   1385\u001b[0m             outputs = reduce_per_replica(\n\u001b[1;32m   1386\u001b[0m                 \u001b[0moutputs\u001b[0m\u001b[0;34m,\u001b[0m\u001b[0;34m\u001b[0m\u001b[0;34m\u001b[0m\u001b[0m\n",
            "\u001b[0;32m/usr/local/lib/python3.10/dist-packages/keras/src/engine/training.py\u001b[0m in \u001b[0;36mrun_step\u001b[0;34m(data)\u001b[0m\n\u001b[1;32m   1371\u001b[0m \u001b[0;34m\u001b[0m\u001b[0m\n\u001b[1;32m   1372\u001b[0m             \u001b[0;32mdef\u001b[0m \u001b[0mrun_step\u001b[0m\u001b[0;34m(\u001b[0m\u001b[0mdata\u001b[0m\u001b[0;34m)\u001b[0m\u001b[0;34m:\u001b[0m\u001b[0;34m\u001b[0m\u001b[0;34m\u001b[0m\u001b[0m\n\u001b[0;32m-> 1373\u001b[0;31m                 \u001b[0moutputs\u001b[0m \u001b[0;34m=\u001b[0m \u001b[0mmodel\u001b[0m\u001b[0;34m.\u001b[0m\u001b[0mtrain_step\u001b[0m\u001b[0;34m(\u001b[0m\u001b[0mdata\u001b[0m\u001b[0;34m)\u001b[0m\u001b[0;34m\u001b[0m\u001b[0;34m\u001b[0m\u001b[0m\n\u001b[0m\u001b[1;32m   1374\u001b[0m                 \u001b[0;31m# Ensure counter is updated only if `train_step` succeeds.\u001b[0m\u001b[0;34m\u001b[0m\u001b[0;34m\u001b[0m\u001b[0m\n\u001b[1;32m   1375\u001b[0m                 \u001b[0;32mwith\u001b[0m \u001b[0mtf\u001b[0m\u001b[0;34m.\u001b[0m\u001b[0mcontrol_dependencies\u001b[0m\u001b[0;34m(\u001b[0m\u001b[0m_minimum_control_deps\u001b[0m\u001b[0;34m(\u001b[0m\u001b[0moutputs\u001b[0m\u001b[0;34m)\u001b[0m\u001b[0;34m)\u001b[0m\u001b[0;34m:\u001b[0m\u001b[0;34m\u001b[0m\u001b[0;34m\u001b[0m\u001b[0m\n",
            "\u001b[0;32m/usr/local/lib/python3.10/dist-packages/keras/src/engine/training.py\u001b[0m in \u001b[0;36mtrain_step\u001b[0;34m(self, data)\u001b[0m\n\u001b[1;32m   1152\u001b[0m         \u001b[0mself\u001b[0m\u001b[0;34m.\u001b[0m\u001b[0m_validate_target_and_loss\u001b[0m\u001b[0;34m(\u001b[0m\u001b[0my\u001b[0m\u001b[0;34m,\u001b[0m \u001b[0mloss\u001b[0m\u001b[0;34m)\u001b[0m\u001b[0;34m\u001b[0m\u001b[0;34m\u001b[0m\u001b[0m\n\u001b[1;32m   1153\u001b[0m         \u001b[0;31m# Run backwards pass.\u001b[0m\u001b[0;34m\u001b[0m\u001b[0;34m\u001b[0m\u001b[0m\n\u001b[0;32m-> 1154\u001b[0;31m         \u001b[0mself\u001b[0m\u001b[0;34m.\u001b[0m\u001b[0moptimizer\u001b[0m\u001b[0;34m.\u001b[0m\u001b[0mminimize\u001b[0m\u001b[0;34m(\u001b[0m\u001b[0mloss\u001b[0m\u001b[0;34m,\u001b[0m \u001b[0mself\u001b[0m\u001b[0;34m.\u001b[0m\u001b[0mtrainable_variables\u001b[0m\u001b[0;34m,\u001b[0m \u001b[0mtape\u001b[0m\u001b[0;34m=\u001b[0m\u001b[0mtape\u001b[0m\u001b[0;34m)\u001b[0m\u001b[0;34m\u001b[0m\u001b[0;34m\u001b[0m\u001b[0m\n\u001b[0m\u001b[1;32m   1155\u001b[0m         \u001b[0;32mreturn\u001b[0m \u001b[0mself\u001b[0m\u001b[0;34m.\u001b[0m\u001b[0mcompute_metrics\u001b[0m\u001b[0;34m(\u001b[0m\u001b[0mx\u001b[0m\u001b[0;34m,\u001b[0m \u001b[0my\u001b[0m\u001b[0;34m,\u001b[0m \u001b[0my_pred\u001b[0m\u001b[0;34m,\u001b[0m \u001b[0msample_weight\u001b[0m\u001b[0;34m)\u001b[0m\u001b[0;34m\u001b[0m\u001b[0;34m\u001b[0m\u001b[0m\n\u001b[1;32m   1156\u001b[0m \u001b[0;34m\u001b[0m\u001b[0m\n",
            "\u001b[0;32m/usr/local/lib/python3.10/dist-packages/keras/src/optimizers/optimizer.py\u001b[0m in \u001b[0;36mminimize\u001b[0;34m(self, loss, var_list, tape)\u001b[0m\n\u001b[1;32m    542\u001b[0m         \"\"\"\n\u001b[1;32m    543\u001b[0m         \u001b[0mgrads_and_vars\u001b[0m \u001b[0;34m=\u001b[0m \u001b[0mself\u001b[0m\u001b[0;34m.\u001b[0m\u001b[0mcompute_gradients\u001b[0m\u001b[0;34m(\u001b[0m\u001b[0mloss\u001b[0m\u001b[0;34m,\u001b[0m \u001b[0mvar_list\u001b[0m\u001b[0;34m,\u001b[0m \u001b[0mtape\u001b[0m\u001b[0;34m)\u001b[0m\u001b[0;34m\u001b[0m\u001b[0;34m\u001b[0m\u001b[0m\n\u001b[0;32m--> 544\u001b[0;31m         \u001b[0mself\u001b[0m\u001b[0;34m.\u001b[0m\u001b[0mapply_gradients\u001b[0m\u001b[0;34m(\u001b[0m\u001b[0mgrads_and_vars\u001b[0m\u001b[0;34m)\u001b[0m\u001b[0;34m\u001b[0m\u001b[0;34m\u001b[0m\u001b[0m\n\u001b[0m\u001b[1;32m    545\u001b[0m \u001b[0;34m\u001b[0m\u001b[0m\n\u001b[1;32m    546\u001b[0m     \u001b[0;32mdef\u001b[0m \u001b[0m_compute_current_learning_rate\u001b[0m\u001b[0;34m(\u001b[0m\u001b[0mself\u001b[0m\u001b[0;34m)\u001b[0m\u001b[0;34m:\u001b[0m\u001b[0;34m\u001b[0m\u001b[0;34m\u001b[0m\u001b[0m\n",
            "\u001b[0;32m/usr/local/lib/python3.10/dist-packages/keras/src/optimizers/optimizer.py\u001b[0m in \u001b[0;36mapply_gradients\u001b[0;34m(self, grads_and_vars, name, skip_gradients_aggregation, **kwargs)\u001b[0m\n\u001b[1;32m   1221\u001b[0m         \u001b[0;32mif\u001b[0m \u001b[0;32mnot\u001b[0m \u001b[0mskip_gradients_aggregation\u001b[0m \u001b[0;32mand\u001b[0m \u001b[0mexperimental_aggregate_gradients\u001b[0m\u001b[0;34m:\u001b[0m\u001b[0;34m\u001b[0m\u001b[0;34m\u001b[0m\u001b[0m\n\u001b[1;32m   1222\u001b[0m             \u001b[0mgrads_and_vars\u001b[0m \u001b[0;34m=\u001b[0m \u001b[0mself\u001b[0m\u001b[0;34m.\u001b[0m\u001b[0maggregate_gradients\u001b[0m\u001b[0;34m(\u001b[0m\u001b[0mgrads_and_vars\u001b[0m\u001b[0;34m)\u001b[0m\u001b[0;34m\u001b[0m\u001b[0;34m\u001b[0m\u001b[0m\n\u001b[0;32m-> 1223\u001b[0;31m         \u001b[0;32mreturn\u001b[0m \u001b[0msuper\u001b[0m\u001b[0;34m(\u001b[0m\u001b[0;34m)\u001b[0m\u001b[0;34m.\u001b[0m\u001b[0mapply_gradients\u001b[0m\u001b[0;34m(\u001b[0m\u001b[0mgrads_and_vars\u001b[0m\u001b[0;34m,\u001b[0m \u001b[0mname\u001b[0m\u001b[0;34m=\u001b[0m\u001b[0mname\u001b[0m\u001b[0;34m)\u001b[0m\u001b[0;34m\u001b[0m\u001b[0;34m\u001b[0m\u001b[0m\n\u001b[0m\u001b[1;32m   1224\u001b[0m \u001b[0;34m\u001b[0m\u001b[0m\n\u001b[1;32m   1225\u001b[0m     \u001b[0;32mdef\u001b[0m \u001b[0m_apply_weight_decay\u001b[0m\u001b[0;34m(\u001b[0m\u001b[0mself\u001b[0m\u001b[0;34m,\u001b[0m \u001b[0mvariables\u001b[0m\u001b[0;34m)\u001b[0m\u001b[0;34m:\u001b[0m\u001b[0;34m\u001b[0m\u001b[0;34m\u001b[0m\u001b[0m\n",
            "\u001b[0;32m/usr/local/lib/python3.10/dist-packages/keras/src/optimizers/optimizer.py\u001b[0m in \u001b[0;36mapply_gradients\u001b[0;34m(self, grads_and_vars, name)\u001b[0m\n\u001b[1;32m    650\u001b[0m             \u001b[0mself\u001b[0m\u001b[0;34m.\u001b[0m\u001b[0m_apply_weight_decay\u001b[0m\u001b[0;34m(\u001b[0m\u001b[0mtrainable_variables\u001b[0m\u001b[0;34m)\u001b[0m\u001b[0;34m\u001b[0m\u001b[0;34m\u001b[0m\u001b[0m\n\u001b[1;32m    651\u001b[0m             \u001b[0mgrads_and_vars\u001b[0m \u001b[0;34m=\u001b[0m \u001b[0mlist\u001b[0m\u001b[0;34m(\u001b[0m\u001b[0mzip\u001b[0m\u001b[0;34m(\u001b[0m\u001b[0mgrads\u001b[0m\u001b[0;34m,\u001b[0m \u001b[0mtrainable_variables\u001b[0m\u001b[0;34m)\u001b[0m\u001b[0;34m)\u001b[0m\u001b[0;34m\u001b[0m\u001b[0;34m\u001b[0m\u001b[0m\n\u001b[0;32m--> 652\u001b[0;31m             \u001b[0miteration\u001b[0m \u001b[0;34m=\u001b[0m \u001b[0mself\u001b[0m\u001b[0;34m.\u001b[0m\u001b[0m_internal_apply_gradients\u001b[0m\u001b[0;34m(\u001b[0m\u001b[0mgrads_and_vars\u001b[0m\u001b[0;34m)\u001b[0m\u001b[0;34m\u001b[0m\u001b[0;34m\u001b[0m\u001b[0m\n\u001b[0m\u001b[1;32m    653\u001b[0m \u001b[0;34m\u001b[0m\u001b[0m\n\u001b[1;32m    654\u001b[0m             \u001b[0;31m# Apply variable constraints after applying gradients.\u001b[0m\u001b[0;34m\u001b[0m\u001b[0;34m\u001b[0m\u001b[0m\n",
            "\u001b[0;32m/usr/local/lib/python3.10/dist-packages/keras/src/optimizers/optimizer.py\u001b[0m in \u001b[0;36m_internal_apply_gradients\u001b[0;34m(self, grads_and_vars)\u001b[0m\n\u001b[1;32m   1251\u001b[0m             \u001b[0;32mreturn\u001b[0m \u001b[0msuper\u001b[0m\u001b[0;34m(\u001b[0m\u001b[0;34m)\u001b[0m\u001b[0;34m.\u001b[0m\u001b[0m_internal_apply_gradients\u001b[0m\u001b[0;34m(\u001b[0m\u001b[0mgrads_and_vars\u001b[0m\u001b[0;34m)\u001b[0m\u001b[0;34m\u001b[0m\u001b[0;34m\u001b[0m\u001b[0m\n\u001b[1;32m   1252\u001b[0m \u001b[0;34m\u001b[0m\u001b[0m\n\u001b[0;32m-> 1253\u001b[0;31m         return tf.__internal__.distribute.interim.maybe_merge_call(\n\u001b[0m\u001b[1;32m   1254\u001b[0m             \u001b[0mself\u001b[0m\u001b[0;34m.\u001b[0m\u001b[0m_distributed_apply_gradients_fn\u001b[0m\u001b[0;34m,\u001b[0m\u001b[0;34m\u001b[0m\u001b[0;34m\u001b[0m\u001b[0m\n\u001b[1;32m   1255\u001b[0m             \u001b[0mself\u001b[0m\u001b[0;34m.\u001b[0m\u001b[0m_distribution_strategy\u001b[0m\u001b[0;34m,\u001b[0m\u001b[0;34m\u001b[0m\u001b[0;34m\u001b[0m\u001b[0m\n",
            "\u001b[0;32m/usr/local/lib/python3.10/dist-packages/keras/src/optimizers/optimizer.py\u001b[0m in \u001b[0;36m_distributed_apply_gradients_fn\u001b[0;34m(self, distribution, grads_and_vars, **kwargs)\u001b[0m\n\u001b[1;32m   1343\u001b[0m \u001b[0;34m\u001b[0m\u001b[0m\n\u001b[1;32m   1344\u001b[0m         \u001b[0;32mfor\u001b[0m \u001b[0mgrad\u001b[0m\u001b[0;34m,\u001b[0m \u001b[0mvar\u001b[0m \u001b[0;32min\u001b[0m \u001b[0mgrads_and_vars\u001b[0m\u001b[0;34m:\u001b[0m\u001b[0;34m\u001b[0m\u001b[0;34m\u001b[0m\u001b[0m\n\u001b[0;32m-> 1345\u001b[0;31m             distribution.extended.update(\n\u001b[0m\u001b[1;32m   1346\u001b[0m                 \u001b[0mvar\u001b[0m\u001b[0;34m,\u001b[0m \u001b[0mapply_grad_to_update_var\u001b[0m\u001b[0;34m,\u001b[0m \u001b[0margs\u001b[0m\u001b[0;34m=\u001b[0m\u001b[0;34m(\u001b[0m\u001b[0mgrad\u001b[0m\u001b[0;34m,\u001b[0m\u001b[0;34m)\u001b[0m\u001b[0;34m,\u001b[0m \u001b[0mgroup\u001b[0m\u001b[0;34m=\u001b[0m\u001b[0;32mFalse\u001b[0m\u001b[0;34m\u001b[0m\u001b[0;34m\u001b[0m\u001b[0m\n\u001b[1;32m   1347\u001b[0m             )\n",
            "\u001b[0;32m/usr/local/lib/python3.10/dist-packages/keras/src/optimizers/optimizer.py\u001b[0m in \u001b[0;36mapply_grad_to_update_var\u001b[0;34m(var, grad)\u001b[0m\n\u001b[1;32m   1340\u001b[0m                 \u001b[0;32mreturn\u001b[0m \u001b[0mself\u001b[0m\u001b[0;34m.\u001b[0m\u001b[0m_update_step_xla\u001b[0m\u001b[0;34m(\u001b[0m\u001b[0mgrad\u001b[0m\u001b[0;34m,\u001b[0m \u001b[0mvar\u001b[0m\u001b[0;34m,\u001b[0m \u001b[0mid\u001b[0m\u001b[0;34m(\u001b[0m\u001b[0mself\u001b[0m\u001b[0;34m.\u001b[0m\u001b[0m_var_key\u001b[0m\u001b[0;34m(\u001b[0m\u001b[0mvar\u001b[0m\u001b[0;34m)\u001b[0m\u001b[0;34m)\u001b[0m\u001b[0;34m)\u001b[0m\u001b[0;34m\u001b[0m\u001b[0;34m\u001b[0m\u001b[0m\n\u001b[1;32m   1341\u001b[0m             \u001b[0;32melse\u001b[0m\u001b[0;34m:\u001b[0m\u001b[0;34m\u001b[0m\u001b[0;34m\u001b[0m\u001b[0m\n\u001b[0;32m-> 1342\u001b[0;31m                 \u001b[0;32mreturn\u001b[0m \u001b[0mself\u001b[0m\u001b[0;34m.\u001b[0m\u001b[0m_update_step\u001b[0m\u001b[0;34m(\u001b[0m\u001b[0mgrad\u001b[0m\u001b[0;34m,\u001b[0m \u001b[0mvar\u001b[0m\u001b[0;34m)\u001b[0m\u001b[0;34m\u001b[0m\u001b[0;34m\u001b[0m\u001b[0m\n\u001b[0m\u001b[1;32m   1343\u001b[0m \u001b[0;34m\u001b[0m\u001b[0m\n\u001b[1;32m   1344\u001b[0m         \u001b[0;32mfor\u001b[0m \u001b[0mgrad\u001b[0m\u001b[0;34m,\u001b[0m \u001b[0mvar\u001b[0m \u001b[0;32min\u001b[0m \u001b[0mgrads_and_vars\u001b[0m\u001b[0;34m:\u001b[0m\u001b[0;34m\u001b[0m\u001b[0;34m\u001b[0m\u001b[0m\n",
            "\u001b[0;32m/usr/local/lib/python3.10/dist-packages/keras/src/optimizers/optimizer.py\u001b[0m in \u001b[0;36m_update_step\u001b[0;34m(self, gradient, variable)\u001b[0m\n\u001b[1;32m    231\u001b[0m             \u001b[0;32mreturn\u001b[0m\u001b[0;34m\u001b[0m\u001b[0;34m\u001b[0m\u001b[0m\n\u001b[1;32m    232\u001b[0m         \u001b[0;32mif\u001b[0m \u001b[0mself\u001b[0m\u001b[0;34m.\u001b[0m\u001b[0m_var_key\u001b[0m\u001b[0;34m(\u001b[0m\u001b[0mvariable\u001b[0m\u001b[0;34m)\u001b[0m \u001b[0;32mnot\u001b[0m \u001b[0;32min\u001b[0m \u001b[0mself\u001b[0m\u001b[0;34m.\u001b[0m\u001b[0m_index_dict\u001b[0m\u001b[0;34m:\u001b[0m\u001b[0;34m\u001b[0m\u001b[0;34m\u001b[0m\u001b[0m\n\u001b[0;32m--> 233\u001b[0;31m             raise KeyError(\n\u001b[0m\u001b[1;32m    234\u001b[0m                 \u001b[0;34mf\"The optimizer cannot recognize variable {variable.name}. \"\u001b[0m\u001b[0;34m\u001b[0m\u001b[0;34m\u001b[0m\u001b[0m\n\u001b[1;32m    235\u001b[0m                 \u001b[0;34m\"This usually means you are trying to call the optimizer to \"\u001b[0m\u001b[0;34m\u001b[0m\u001b[0;34m\u001b[0m\u001b[0m\n",
            "\u001b[0;31mKeyError\u001b[0m: in user code:\n\n    File \"/usr/local/lib/python3.10/dist-packages/keras/src/engine/training.py\", line 1401, in train_function  *\n        return step_function(self, iterator)\n    File \"/usr/local/lib/python3.10/dist-packages/keras/src/engine/training.py\", line 1384, in step_function  **\n        outputs = model.distribute_strategy.run(run_step, args=(data,))\n    File \"/usr/local/lib/python3.10/dist-packages/keras/src/engine/training.py\", line 1373, in run_step  **\n        outputs = model.train_step(data)\n    File \"/usr/local/lib/python3.10/dist-packages/keras/src/engine/training.py\", line 1154, in train_step\n        self.optimizer.minimize(loss, self.trainable_variables, tape=tape)\n    File \"/usr/local/lib/python3.10/dist-packages/keras/src/optimizers/optimizer.py\", line 544, in minimize\n        self.apply_gradients(grads_and_vars)\n    File \"/usr/local/lib/python3.10/dist-packages/keras/src/optimizers/optimizer.py\", line 1223, in apply_gradients\n        return super().apply_gradients(grads_and_vars, name=name)\n    File \"/usr/local/lib/python3.10/dist-packages/keras/src/optimizers/optimizer.py\", line 652, in apply_gradients\n        iteration = self._internal_apply_gradients(grads_and_vars)\n    File \"/usr/local/lib/python3.10/dist-packages/keras/src/optimizers/optimizer.py\", line 1253, in _internal_apply_gradients\n        return tf.__internal__.distribute.interim.maybe_merge_call(\n    File \"/usr/local/lib/python3.10/dist-packages/keras/src/optimizers/optimizer.py\", line 1345, in _distributed_apply_gradients_fn\n        distribution.extended.update(\n    File \"/usr/local/lib/python3.10/dist-packages/keras/src/optimizers/optimizer.py\", line 1342, in apply_grad_to_update_var  **\n        return self._update_step(grad, var)\n    File \"/usr/local/lib/python3.10/dist-packages/keras/src/optimizers/optimizer.py\", line 233, in _update_step\n        raise KeyError(\n\n    KeyError: 'The optimizer cannot recognize variable dense/kernel:0. This usually means you are trying to call the optimizer to update different parts of the model separately. Please call `optimizer.build(variables)` with the full list of trainable variables before the training loop or use legacy optimizer `tf.keras.optimizers.legacy.Adam.'\n"
          ]
        }
      ]
    },
    {
      "cell_type": "code",
      "source": [
        "sample_images(generator, None, save=False)"
      ],
      "metadata": {
        "id": "DXh66ULQd9I-",
        "execution": {
          "iopub.status.busy": "2023-07-05T02:50:33.390655Z",
          "iopub.execute_input": "2023-07-05T02:50:33.390951Z",
          "iopub.status.idle": "2023-07-05T02:50:34.670617Z",
          "shell.execute_reply.started": "2023-07-05T02:50:33.390902Z",
          "shell.execute_reply": "2023-07-05T02:50:34.669867Z"
        },
        "trusted": true
      },
      "execution_count": null,
      "outputs": []
    },
    {
      "cell_type": "code",
      "source": [
        "generate_gif(gif_name='../working/mnist_gan.gif', pattern='../working/mnist*.png')\n",
        "display.Image(filename=\"../working/mnist_gan.gif.png\")"
      ],
      "metadata": {
        "id": "IDVQmrpHd9JF",
        "execution": {
          "iopub.status.busy": "2023-07-05T02:50:34.671954Z",
          "iopub.execute_input": "2023-07-05T02:50:34.672242Z",
          "iopub.status.idle": "2023-07-05T02:50:34.987758Z",
          "shell.execute_reply.started": "2023-07-05T02:50:34.67219Z",
          "shell.execute_reply": "2023-07-05T02:50:34.986498Z"
        },
        "trusted": true
      },
      "execution_count": null,
      "outputs": []
    },
    {
      "cell_type": "code",
      "source": [
        "(X, _), (_, _) = kr.datasets.fashion_mnist.load_data()\n",
        "\n",
        "X = X.reshape(X.shape[0], 28, 28, 1).astype('float32')\n",
        "X = (X - 127.5) / 127.5 # Normalize the images to [-1, 1]"
      ],
      "metadata": {
        "id": "3es9LJjLd9JS",
        "execution": {
          "iopub.status.busy": "2023-07-05T02:50:34.989Z",
          "iopub.execute_input": "2023-07-05T02:50:34.989279Z",
          "iopub.status.idle": "2023-07-05T02:50:39.998488Z",
          "shell.execute_reply.started": "2023-07-05T02:50:34.989235Z",
          "shell.execute_reply": "2023-07-05T02:50:39.99758Z"
        },
        "trusted": true
      },
      "execution_count": null,
      "outputs": []
    },
    {
      "cell_type": "code",
      "source": [
        "def generator_model():\n",
        "    model = kr.Sequential()\n",
        "\n",
        "    model.add(kr.layers.Dense(7 * 7 * 128, activation=\"relu\", input_shape=(LATENT_DIM,)))\n",
        "    model.add(kr.layers.Reshape((7, 7, 128)))\n",
        "\n",
        "    model.add(kr.layers.UpSampling2D())\n",
        "    model.add(kr.layers.Conv2D(128, (3, 3), padding='same'))\n",
        "    model.add(kr.layers.BatchNormalization(momentum=0.8))\n",
        "    model.add(kr.layers.ReLU())\n",
        "\n",
        "    model.add(kr.layers.UpSampling2D())\n",
        "    model.add(kr.layers.Conv2D(64, (3, 3), padding='same'))\n",
        "    model.add(kr.layers.BatchNormalization(momentum=0.8))\n",
        "    model.add(kr.layers.ReLU())\n",
        "\n",
        "    model.add(kr.layers.Conv2D(1, (3, 3), padding='same', activation='tanh'))\n",
        "\n",
        "    return model\n",
        "\n",
        "\n",
        "generator = generator_model()\n",
        "generator.summary()"
      ],
      "metadata": {
        "id": "6bpTcDqoLWjY",
        "execution": {
          "iopub.status.busy": "2023-07-05T02:50:40.000047Z",
          "iopub.execute_input": "2023-07-05T02:50:40.001488Z",
          "iopub.status.idle": "2023-07-05T02:50:40.230709Z",
          "shell.execute_reply.started": "2023-07-05T02:50:40.000324Z",
          "shell.execute_reply": "2023-07-05T02:50:40.229971Z"
        },
        "trusted": true
      },
      "execution_count": null,
      "outputs": []
    },
    {
      "cell_type": "code",
      "source": [
        "def discriminator_model():\n",
        "    model = kr.Sequential()\n",
        "\n",
        "    model.add(kr.layers.Conv2D(32, (3, 3), strides=(2, 2), padding='same', input_shape=(28, 28, 1)))\n",
        "    model.add(kr.layers.LeakyReLU(alpha=0.2))\n",
        "    model.add(kr.layers.Dropout(0.25))\n",
        "\n",
        "    model.add(kr.layers.Conv2D(64, (3, 3), strides=(2, 2), padding='same'))\n",
        "    # model.add(kr.layers.ZeroPadding2D(padding=((0,1),(0,1))))\n",
        "    model.add(kr.layers.BatchNormalization(momentum=0.8))\n",
        "    model.add(kr.layers.LeakyReLU(alpha=0.2))\n",
        "    model.add(kr.layers.Dropout(0.25))\n",
        "\n",
        "    model.add(kr.layers.Conv2D(128, (3, 3), strides=(2, 2), padding='same'))\n",
        "    model.add(kr.layers.BatchNormalization(momentum=0.8))\n",
        "    model.add(kr.layers.LeakyReLU(alpha=0.2))\n",
        "    model.add(kr.layers.Dropout(0.25))\n",
        "\n",
        "    model.add(kr.layers.Conv2D(256, (3, 3), strides=(2, 2), padding='same'))\n",
        "    model.add(kr.layers.BatchNormalization(momentum=0.8))\n",
        "    model.add(kr.layers.LeakyReLU(alpha=0.2))\n",
        "    model.add(kr.layers.Dropout(0.25))\n",
        "\n",
        "    model.add(kr.layers.Flatten())\n",
        "    model.add(kr.layers.Dense(1, activation='sigmoid'))\n",
        "\n",
        "    return model\n",
        "\n",
        "\n",
        "discriminator = discriminator_model()\n",
        "discriminator.summary()"
      ],
      "metadata": {
        "id": "dw2tPLmk2pEP",
        "execution": {
          "iopub.status.busy": "2023-07-05T02:50:40.232031Z",
          "iopub.execute_input": "2023-07-05T02:50:40.232318Z",
          "iopub.status.idle": "2023-07-05T02:50:40.590506Z",
          "shell.execute_reply.started": "2023-07-05T02:50:40.232268Z",
          "shell.execute_reply": "2023-07-05T02:50:40.58979Z"
        },
        "trusted": true
      },
      "execution_count": null,
      "outputs": []
    },
    {
      "cell_type": "code",
      "source": [
        "optimizer = kr.optimizers.Adam(0.0002, 0.5)\n",
        "\n",
        "discriminator.compile(loss='binary_crossentropy', optimizer=optimizer,  metrics=['acc'])\n",
        "discriminator.trainable = False    # For GAN we will only train the generator\n",
        "\n",
        "z = kr.Input(shape=(LATENT_DIM,))\n",
        "valid = discriminator(generator(z))\n",
        "\n",
        "model = kr.Model(z, valid)\n",
        "model.compile(loss='binary_crossentropy', optimizer=optimizer)\n",
        "model.summary()"
      ],
      "metadata": {
        "id": "kwTx7Csxd9Jv",
        "execution": {
          "iopub.status.busy": "2023-07-05T02:50:40.592107Z",
          "iopub.execute_input": "2023-07-05T02:50:40.59265Z",
          "iopub.status.idle": "2023-07-05T02:50:41.09673Z",
          "shell.execute_reply.started": "2023-07-05T02:50:40.592406Z",
          "shell.execute_reply": "2023-07-05T02:50:41.095807Z"
        },
        "trusted": true
      },
      "execution_count": null,
      "outputs": []
    },
    {
      "cell_type": "code",
      "source": [
        "# Adversarial ground truths\n",
        "valid_labels = np.ones((BATCH_SIZE, 1))\n",
        "fake_labels = np.zeros((BATCH_SIZE, 1))\n",
        "\n",
        "for epoch in range(EPOCHS):\n",
        "    noise = np.random.normal(size=(BATCH_SIZE, LATENT_DIM))\n",
        "\n",
        "    # Shuffle and batch data\n",
        "    imgs = X[np.random.randint(0, X.shape[0], BATCH_SIZE)]\n",
        "\n",
        "    loss_real = discriminator.train_on_batch(imgs, valid_labels)\n",
        "    loss_fake = discriminator.train_on_batch(generator.predict(noise), fake_labels)\n",
        "    d_loss, d_acc = 0.5 * np.add(loss_real, loss_fake)\n",
        "\n",
        "    noise = np.random.normal(size=(BATCH_SIZE, LATENT_DIM))\n",
        "    g_loss = model.train_on_batch(noise, valid_labels)\n",
        "    display.clear_output(wait=True)\n",
        "    print (\"Epoch : %d [D loss: %f, acc.: %.2f%%] [G loss: %f]\" % (epoch, d_loss, 100*d_acc, g_loss))\n",
        "\n",
        "    # If at save interval => save generated image samples\n",
        "    if epoch % SAMPLE_INTERVAL == 0:\n",
        "        sample_images(generator, epoch, name='../working/fmnist')"
      ],
      "metadata": {
        "id": "jbp7DEl3d9J3",
        "execution": {
          "iopub.status.busy": "2023-07-05T02:50:41.098207Z",
          "iopub.execute_input": "2023-07-05T02:50:41.098522Z",
          "iopub.status.idle": "2023-07-05T02:59:23.662372Z",
          "shell.execute_reply.started": "2023-07-05T02:50:41.09847Z",
          "shell.execute_reply": "2023-07-05T02:59:23.661575Z"
        },
        "trusted": true
      },
      "execution_count": null,
      "outputs": []
    },
    {
      "cell_type": "code",
      "source": [
        "sample_images(generator, None, save=False, name='../working/fmnist')"
      ],
      "metadata": {
        "id": "BRxBKX30d9J8",
        "execution": {
          "iopub.status.busy": "2023-07-05T02:59:23.663706Z",
          "iopub.execute_input": "2023-07-05T02:59:23.66419Z",
          "iopub.status.idle": "2023-07-05T02:59:24.954079Z",
          "shell.execute_reply.started": "2023-07-05T02:59:23.664125Z",
          "shell.execute_reply": "2023-07-05T02:59:24.953324Z"
        },
        "trusted": true
      },
      "execution_count": null,
      "outputs": []
    },
    {
      "cell_type": "code",
      "source": [
        "generate_gif(gif_name='../working/fmnist_gan.gif', pattern='../working/fmnist*.png')\n",
        "display.Image(filename=\"../working/fmnist_gan.gif.png\")"
      ],
      "metadata": {
        "id": "lvR0CkqSd9KD",
        "execution": {
          "iopub.status.busy": "2023-07-05T02:59:24.95552Z",
          "iopub.execute_input": "2023-07-05T02:59:24.956042Z",
          "iopub.status.idle": "2023-07-05T02:59:25.259426Z",
          "shell.execute_reply.started": "2023-07-05T02:59:24.95599Z",
          "shell.execute_reply": "2023-07-05T02:59:25.258559Z"
        },
        "trusted": true
      },
      "execution_count": null,
      "outputs": []
    },
    {
      "cell_type": "code",
      "source": [],
      "metadata": {
        "trusted": true,
        "id": "9skc2h0XhOQV"
      },
      "execution_count": null,
      "outputs": []
    }
  ]
}